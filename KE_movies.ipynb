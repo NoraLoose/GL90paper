{
 "cells": [
  {
   "cell_type": "markdown",
   "metadata": {},
   "source": [
    "# Make KE movies (found in supporting information)"
   ]
  },
  {
   "cell_type": "code",
   "execution_count": 1,
   "metadata": {},
   "outputs": [],
   "source": [
    "import cartopy.crs as ccrs\n",
    "import cmocean\n",
    "cmap = cmocean.cm.thermal\n",
    "cmap.set_bad('w')"
   ]
  },
  {
   "cell_type": "code",
   "execution_count": 2,
   "metadata": {},
   "outputs": [],
   "source": [
    "import numpy as np\n",
    "import matplotlib.pyplot as plt\n",
    "import xarray as xr\n",
    "from dask.diagnostics import ProgressBar\n",
    "import warnings\n",
    "warnings.filterwarnings(\"ignore\")"
   ]
  },
  {
   "cell_type": "code",
   "execution_count": 3,
   "metadata": {},
   "outputs": [],
   "source": [
    "from yamlparser import YAMLParser, read_parameterized_runs, read_unparameterized_runs"
   ]
  },
  {
   "cell_type": "code",
   "execution_count": 4,
   "metadata": {},
   "outputs": [],
   "source": [
    "yp = YAMLParser()"
   ]
  },
  {
   "cell_type": "code",
   "execution_count": 5,
   "metadata": {},
   "outputs": [
    {
     "name": "stdout",
     "output_type": "stream",
     "text": [
      "nw2_0.5deg_N15_KHTH800\n",
      "nw2_0.5deg_N15_KHGL800_hbbl5\n",
      "nw2_0.5deg_N15_KHTH800_vary\n",
      "nw2_0.5deg_N15_KHGL800_vary_hbbl5\n",
      "nw2_0.5deg_N15_EBT_KHTH800\n",
      "nw2_0.5deg_N15_EBT_KHGL800_hbbl5\n",
      "nw2_0.25deg_N15_KHTH300\n",
      "nw2_0.25deg_N15_KHGL300_hbbl1\n",
      "nw2_0.25deg_N15_KHGL300_hbbl5\n",
      "nw2_0.25deg_N15_KHGL300_hbbl20\n",
      "nw2_0.25deg_N15_KHGL300\n",
      "nw2_0.25deg_N15_KHTH800\n",
      "nw2_0.25deg_N15_KHGL800_hbbl5\n",
      "nw2_0.25deg_N15_KHTH300_vary\n",
      "nw2_0.25deg_N15_KHGL300_vary_hbbl5\n",
      "nw2_0.25deg_N15_EBT_KHTH300\n",
      "nw2_0.25deg_N15_EBT_KHGL300_hbbl5\n",
      "nw2_0.125deg_N15_KHTH100\n",
      "nw2_0.125deg_N15_KHGL100_hbbl5\n",
      "nw2_0.125deg_N15_KHTH800\n",
      "nw2_0.125deg_N15_KHGL800_hbbl5\n",
      "nw2_0.125deg_N15_KHTH100_vary\n",
      "nw2_0.125deg_N15_KHGL100_vary_hbbl5\n",
      "nw2_0.125deg_N15_EBT_KHTH100\n",
      "nw2_0.125deg_N15_EBT_KHGL100_hbbl5\n",
      "CPU times: user 9.63 s, sys: 1.57 s, total: 11.2 s\n",
      "Wall time: 1min 48s\n"
     ]
    }
   ],
   "source": [
    "## read parameterized runs\n",
    "exps_param = yp.read('/glade/u/home/noraloose/GL90paper/config_param.yaml')\n",
    "%time exps_param = read_parameterized_runs(exps_param, read_from_time_list=True)"
   ]
  },
  {
   "cell_type": "code",
   "execution_count": 6,
   "metadata": {},
   "outputs": [
    {
     "name": "stdout",
     "output_type": "stream",
     "text": [
      "CPU times: user 1.09 s, sys: 412 ms, total: 1.5 s\n",
      "Wall time: 15.7 s\n"
     ]
    }
   ],
   "source": [
    "# read unparameterized runs\n",
    "exps_unparam = yp.read('/glade/u/home/noraloose/GL90paper/config_unparam.yaml')\n",
    "%time exps_unparam = read_unparameterized_runs(exps_unparam)"
   ]
  },
  {
   "cell_type": "code",
   "execution_count": 7,
   "metadata": {},
   "outputs": [],
   "source": [
    "exp_list = [exps_param, exps_unparam]"
   ]
  },
  {
   "cell_type": "code",
   "execution_count": 8,
   "metadata": {},
   "outputs": [],
   "source": [
    "for exps in exp_list:\n",
    "\n",
    "    for exp, v in exps.items():\n",
    "        ds = v['ds']\n",
    "        ds['hKE'] = ds['h'] * ds['KE']\n"
   ]
  },
  {
   "cell_type": "code",
   "execution_count": 9,
   "metadata": {},
   "outputs": [],
   "source": [
    "import matplotlib as mpl\n",
    "import matplotlib.pyplot as plt\n",
    "import matplotlib.pylab as pylab\n",
    "params = {'legend.fontsize': 'large',\n",
    "         'axes.labelsize': 'large',\n",
    "         'axes.titlesize':'large',\n",
    "         'xtick.labelsize':'large',\n",
    "         'ytick.labelsize':'large',\n",
    "         'font.size': 12}\n",
    "pylab.rcParams.update(params)"
   ]
  },
  {
   "cell_type": "markdown",
   "metadata": {},
   "source": [
    "# Movies"
   ]
  },
  {
   "cell_type": "code",
   "execution_count": 10,
   "metadata": {},
   "outputs": [],
   "source": [
    "pw = 700\n",
    "ph = 1080\n",
    "import xmovie\n",
    "from xmovie import Movie"
   ]
  },
  {
   "cell_type": "code",
   "execution_count": 22,
   "metadata": {},
   "outputs": [],
   "source": [
    "def plotfunc_KE(ds, fig, tt, framedim='time'):\n",
    "    vmin = 1e-2\n",
    "    vmax = 1e3\n",
    "    unit = r'm$^3$ s$^{-2}$'\n",
    "    kwargs = {\n",
    "        'norm': mpl.colors.LogNorm(vmin=vmin, vmax=vmax),\n",
    "        'cmap': cmap,\n",
    "        'add_colorbar': False,\n",
    "    }\n",
    "    \n",
    "    ax = fig.subplots(nrows=1, ncols=1, subplot_kw={'projection':ccrs.PlateCarree()})\n",
    "\n",
    "\n",
    "    KE_snapshot = ds['hKE'].sum(dim='zl').isel({framedim:tt}).compute()\n",
    "\n",
    "    p = KE_snapshot.plot(ax=ax, **kwargs)\n",
    "    ax.set_title('Time = %d days' % (5*tt))\n",
    "\n",
    "\n",
    "    ax.set_extent([0, 60, -70, 70], crs=ccrs.PlateCarree())\n",
    "    gl = ax.gridlines(draw_labels=True)\n",
    "    gl.top_labels = False\n",
    "    gl.right_labels = False\n",
    "        \n",
    "\n",
    "    fig.subplots_adjust(right=0.7, wspace=0.3, hspace=0.3)\n",
    "    cax = fig.add_axes([0.7, 0.1, 0.03, 0.8])\n",
    "    cbar = plt.colorbar(p, cax=cax, label=unit, extend='both')\n",
    "    cbar.ax.tick_params(labelsize=16) \n",
    "\n",
    "    fig.suptitle(label)"
   ]
  },
  {
   "cell_type": "markdown",
   "metadata": {},
   "source": [
    "### 1/2 degree"
   ]
  },
  {
   "cell_type": "code",
   "execution_count": 24,
   "metadata": {},
   "outputs": [
    {
     "name": "stdout",
     "output_type": "stream",
     "text": [
      "Movie created at KE_nw2_0.5deg_N15_KHTH800.mp4\n"
     ]
    }
   ],
   "source": [
    "exp_str = 'nw2_0.5deg_N15_KHTH800'\n",
    "ds = exps_param[exp_str]['ds']\n",
    "label = exps_param[exp_str]['label']\n",
    "mov_custom = Movie(ds, plotfunc=plotfunc_KE, pixelwidth=pw, pixelheight=ph, input_check=False)\n",
    "mov_custom.save('/glade/u/home/noraloose/GL90paper/movies/KE_%s.mp4' %(exp_str), overwrite_existing=True)"
   ]
  },
  {
   "cell_type": "code",
   "execution_count": 25,
   "metadata": {},
   "outputs": [
    {
     "name": "stdout",
     "output_type": "stream",
     "text": [
      "Movie created at KE_nw2_0.5deg_N15_KHGL800_hbbl5.mp4\n"
     ]
    }
   ],
   "source": [
    "exp_str = 'nw2_0.5deg_N15_KHGL800_hbbl5'\n",
    "ds = exps_param[exp_str]['ds']\n",
    "label = exps_param[exp_str]['label']\n",
    "mov_custom = Movie(ds, plotfunc=plotfunc_KE, pixelwidth=pw, pixelheight=ph, input_check=False)\n",
    "mov_custom.save('/glade/u/home/noraloose/GL90paper/movies/KE_%s.mp4' %(exp_str), overwrite_existing=True)"
   ]
  },
  {
   "cell_type": "markdown",
   "metadata": {},
   "source": [
    "### 1/4 degree"
   ]
  },
  {
   "cell_type": "code",
   "execution_count": 27,
   "metadata": {},
   "outputs": [
    {
     "name": "stdout",
     "output_type": "stream",
     "text": [
      "Movie created at KE_nw2_0.25deg_N15_baseline_hmix20.mp4\n"
     ]
    }
   ],
   "source": [
    "exp_str = 'nw2_0.25deg_N15_baseline_hmix20'\n",
    "ds = exps_unparam[exp_str]['ds']\n",
    "label = exps_unparam[exp_str]['label']\n",
    "mov_custom = Movie(ds, plotfunc=plotfunc_KE, pixelwidth=pw, pixelheight=ph, input_check=False)\n",
    "mov_custom.save('/glade/u/home/noraloose/GL90paper/movies/KE_%s.mp4' %(exp_str), overwrite_existing=True)"
   ]
  },
  {
   "cell_type": "code",
   "execution_count": 28,
   "metadata": {},
   "outputs": [
    {
     "name": "stdout",
     "output_type": "stream",
     "text": [
      "Movie created at KE_nw2_0.25deg_N15_KHTH300.mp4\n"
     ]
    }
   ],
   "source": [
    "exp_str = 'nw2_0.25deg_N15_KHTH300'\n",
    "ds = exps_param[exp_str]['ds'] \n",
    "label = exps_param[exp_str]['label']\n",
    "mov_custom = Movie(ds, plotfunc=plotfunc_KE, pixelwidth=pw, pixelheight=ph, input_check=False)\n",
    "mov_custom.save('/glade/u/home/noraloose/GL90paper/movies/KE_%s.mp4' %(exp_str), overwrite_existing=True)"
   ]
  },
  {
   "cell_type": "code",
   "execution_count": 30,
   "metadata": {},
   "outputs": [
    {
     "name": "stdout",
     "output_type": "stream",
     "text": [
      "Movie created at KE_nw2_0.25deg_N15_KHTH800.mp4\n"
     ]
    }
   ],
   "source": [
    "exp_str = 'nw2_0.25deg_N15_KHTH800'\n",
    "ds = exps_param[exp_str]['ds']\n",
    "label = exps_param[exp_str]['label']\n",
    "mov_custom = Movie(ds, plotfunc=plotfunc_KE, pixelwidth=pw, pixelheight=ph, input_check=False)\n",
    "mov_custom.save('/glade/u/home/noraloose/GL90paper/movies/KE_%s.mp4' %(exp_str), overwrite_existing=True)"
   ]
  },
  {
   "cell_type": "code",
   "execution_count": 31,
   "metadata": {},
   "outputs": [
    {
     "name": "stdout",
     "output_type": "stream",
     "text": [
      "Movie created at KE_nw2_0.25deg_N15_KHGL300_hbbl5.mp4\n"
     ]
    }
   ],
   "source": [
    "exp_str = 'nw2_0.25deg_N15_KHGL300_hbbl5'\n",
    "ds = exps_param[exp_str]['ds']\n",
    "label = exps_param[exp_str]['label']\n",
    "mov_custom = Movie(ds, plotfunc=plotfunc_KE, pixelwidth=pw, pixelheight=ph, input_check=False)\n",
    "mov_custom.save('/glade/u/home/noraloose/GL90paper/movies/KE_%s.mp4' %(exp_str), overwrite_existing=True)"
   ]
  },
  {
   "cell_type": "code",
   "execution_count": 32,
   "metadata": {},
   "outputs": [
    {
     "name": "stdout",
     "output_type": "stream",
     "text": [
      "Movie created at KE_nw2_0.25deg_N15_KHGL800_hbbl5.mp4\n"
     ]
    }
   ],
   "source": [
    "exp_str = 'nw2_0.25deg_N15_KHGL800_hbbl5'\n",
    "ds = exps_param[exp_str]['ds'] \n",
    "label = exps_param[exp_str]['label']\n",
    "mov_custom = Movie(ds, plotfunc=plotfunc_KE, pixelwidth=pw, pixelheight=ph, input_check=False)\n",
    "mov_custom.save('/glade/u/home/noraloose/GL90paper/movies/KE_%s.mp4' %(exp_str), overwrite_existing=True)"
   ]
  },
  {
   "cell_type": "markdown",
   "metadata": {},
   "source": [
    "### 1/8 degree"
   ]
  },
  {
   "cell_type": "code",
   "execution_count": 33,
   "metadata": {},
   "outputs": [
    {
     "name": "stdout",
     "output_type": "stream",
     "text": [
      "Movie created at KE_nw2_0.125deg_N15_baseline_hmix20.mp4\n"
     ]
    }
   ],
   "source": [
    "exp_str = 'nw2_0.125deg_N15_baseline_hmix20'\n",
    "ds = exps_unparam[exp_str]['ds']\n",
    "label = exps_unparam[exp_str]['label']\n",
    "mov_custom = Movie(ds, plotfunc=plotfunc_KE, pixelwidth=pw, pixelheight=ph, input_check=False)\n",
    "mov_custom.save('/glade/u/home/noraloose/GL90paper/movies/KE_%s.mp4' %(exp_str), overwrite_existing=True)"
   ]
  },
  {
   "cell_type": "code",
   "execution_count": 34,
   "metadata": {},
   "outputs": [
    {
     "name": "stdout",
     "output_type": "stream",
     "text": [
      "Movie created at KE_nw2_0.125deg_N15_KHTH100.mp4\n"
     ]
    }
   ],
   "source": [
    "exp_str = 'nw2_0.125deg_N15_KHTH100'\n",
    "ds = exps_param[exp_str]['ds'] \n",
    "label = exps_param[exp_str]['label']\n",
    "mov_custom = Movie(ds, plotfunc=plotfunc_KE, pixelwidth=pw, pixelheight=ph, input_check=False)\n",
    "mov_custom.save('/glade/u/home/noraloose/GL90paper/movies/KE_%s.mp4' %(exp_str), overwrite_existing=True)"
   ]
  },
  {
   "cell_type": "code",
   "execution_count": 35,
   "metadata": {},
   "outputs": [
    {
     "name": "stdout",
     "output_type": "stream",
     "text": [
      "Movie created at KE_nw2_0.125deg_N15_KHTH800.mp4\n"
     ]
    }
   ],
   "source": [
    "exp_str = 'nw2_0.125deg_N15_KHTH800'\n",
    "ds = exps_param[exp_str]['ds']\n",
    "label = exps_param[exp_str]['label']\n",
    "mov_custom = Movie(ds, plotfunc=plotfunc_KE, pixelwidth=pw, pixelheight=ph, input_check=False)\n",
    "mov_custom.save('/glade/u/home/noraloose/GL90paper/movies/KE_%s.mp4' %(exp_str), overwrite_existing=True)"
   ]
  },
  {
   "cell_type": "code",
   "execution_count": 36,
   "metadata": {},
   "outputs": [
    {
     "name": "stdout",
     "output_type": "stream",
     "text": [
      "Movie created at KE_nw2_0.125deg_N15_KHGL100_hbbl5.mp4\n"
     ]
    }
   ],
   "source": [
    "exp_str = 'nw2_0.125deg_N15_KHGL100_hbbl5'\n",
    "ds = exps_param[exp_str]['ds'] \n",
    "label = exps_param[exp_str]['label']\n",
    "mov_custom = Movie(ds, plotfunc=plotfunc_KE, pixelwidth=pw, pixelheight=ph, input_check=False)\n",
    "mov_custom.save('/glade/u/home/noraloose/GL90paper/movies/KE_%s.mp4' %(exp_str), overwrite_existing=True)"
   ]
  },
  {
   "cell_type": "code",
   "execution_count": 37,
   "metadata": {},
   "outputs": [
    {
     "name": "stdout",
     "output_type": "stream",
     "text": [
      "Movie created at KE_nw2_0.125deg_N15_KHGL800_hbbl5.mp4\n"
     ]
    }
   ],
   "source": [
    "exp_str = 'nw2_0.125deg_N15_KHGL800_hbbl5'\n",
    "ds = exps_param[exp_str]['ds']\n",
    "label = exps_param[exp_str]['label']\n",
    "mov_custom = Movie(ds, plotfunc=plotfunc_KE, pixelwidth=pw, pixelheight=ph, input_check=False)\n",
    "mov_custom.save('/glade/u/home/noraloose/GL90paper/movies/KE_%s.mp4' %(exp_str), overwrite_existing=True)"
   ]
  },
  {
   "cell_type": "code",
   "execution_count": null,
   "metadata": {},
   "outputs": [],
   "source": []
  }
 ],
 "metadata": {
  "kernelspec": {
   "display_name": "my_env3",
   "language": "python",
   "name": "my_env3"
  },
  "language_info": {
   "codemirror_mode": {
    "name": "ipython",
    "version": 3
   },
   "file_extension": ".py",
   "mimetype": "text/x-python",
   "name": "python",
   "nbconvert_exporter": "python",
   "pygments_lexer": "ipython3",
   "version": "3.9.13"
  }
 },
 "nbformat": 4,
 "nbformat_minor": 4
}
