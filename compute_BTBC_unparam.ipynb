{
 "cells": [
  {
   "cell_type": "markdown",
   "metadata": {},
   "source": [
    "# Compute 500 days averaged barotropic kinetic energy fraction for unparameterized runs\n",
    "\n",
    "Precompute BT KE ratios for unparameterized runs (optional). Useful for faster execution of notebook `Figures7_and_C3.ipynb`."
   ]
  },
  {
   "cell_type": "code",
   "execution_count": 1,
   "metadata": {},
   "outputs": [],
   "source": [
    "import numpy as np\n",
    "import matplotlib.pyplot as plt\n",
    "import xarray as xr\n",
    "from dask.diagnostics import ProgressBar\n",
    "import warnings\n",
    "warnings.filterwarnings(\"ignore\")"
   ]
  },
  {
   "cell_type": "code",
   "execution_count": 2,
   "metadata": {},
   "outputs": [],
   "source": [
    "from yamlparser import YAMLParser, read_unparameterized_runs"
   ]
  },
  {
   "cell_type": "code",
   "execution_count": 3,
   "metadata": {},
   "outputs": [],
   "source": [
    "yp = YAMLParser()"
   ]
  },
  {
   "cell_type": "code",
   "execution_count": 4,
   "metadata": {},
   "outputs": [],
   "source": [
    "# read unparameterized runs\n",
    "exps_unparam = yp.read('/glade/u/home/noraloose/GL90paper/config_unparam.yaml')\n",
    "exps_unparam = read_unparameterized_runs(exps_unparam)"
   ]
  },
  {
   "cell_type": "markdown",
   "metadata": {},
   "source": [
    "## Compute barotropic vs baroclinic contributions"
   ]
  },
  {
   "cell_type": "markdown",
   "metadata": {},
   "source": [
    "barotropic velocities:\n",
    "$$\n",
    "    u_{bt} = \\frac{\\sum_n h_n u_n}{\\sum_n h_n}, \\qquad \n",
    "    v_{bt} = \\frac{\\sum_n h_n v_n}{\\sum_n h_n}\n",
    "$$"
   ]
  },
  {
   "cell_type": "code",
   "execution_count": 5,
   "metadata": {},
   "outputs": [],
   "source": [
    "for exps in [exps_unparam]:\n",
    "    for exp, v in exps.items():\n",
    "        ds = v['ds']\n",
    "        grid = v['grid']\n",
    "        st = v['st']\n",
    "        h_u = grid.interp(ds['h'], 'X')\n",
    "        h_v = grid.interp(ds['h'], 'Y', boundary='fill')\n",
    "\n",
    "        ds['u_bt'] = (ds['uh'] / st.dyCu).sum(dim='zl')/ h_u.sum(dim='zl')\n",
    "        ds['u_bt'] = ds['u_bt'].chunk({'yh': len(st.yh), 'xq': len(st.xq)})\n",
    "\n",
    "        ds['v_bt'] = (ds['vh'] / st.dxCv).sum(dim='zl') / h_v.sum(dim='zl')\n",
    "        ds['v_bt'] = ds['v_bt'].chunk({'yq': len(st.yq), 'xh': len(st.xh)})"
   ]
  },
  {
   "cell_type": "markdown",
   "metadata": {},
   "source": [
    "barotropic KE:\n",
    "$$\n",
    "    KE_{bt} = \\frac{1}{2} \\left(\\sum_n h_n\\right) (u_{bt}^2 + v_{bt}^2)\n",
    "$$"
   ]
  },
  {
   "cell_type": "code",
   "execution_count": 6,
   "metadata": {},
   "outputs": [],
   "source": [
    "for exp, v in exps_unparam.items():\n",
    "        ds_new = xr.Dataset()\n",
    "        ds = v['ds']\n",
    "        grid = v['grid']\n",
    "\n",
    "        hKE = ds['h'] * ds['KE']\n",
    "        \n",
    "        ds_new['KE_bt'] = 0.5 * ds['h'].sum(dim='zl') * (\n",
    "            grid.interp(ds['u_bt']**2, 'X')\n",
    "            + grid.interp(ds['v_bt']**2, 'Y', boundary='fill')\n",
    "        )\n",
    "\n",
    "        ds_new['baro_fraction'] = ds_new['KE_bt'] / hKE.sum(dim='zl')\n",
    "        \n",
    "        # and some other frequently used diagnostics\n",
    "        \n",
    "        # u,v\n",
    "        ds_new['u'] = ds['u']\n",
    "        ds_new['v'] = ds['v']\n",
    "                \n",
    "        # uh, vh\n",
    "        ds_new['uh'] = ds['uh']\n",
    "        ds_new['vh'] = ds['vh']   \n",
    "        \n",
    "        # e\n",
    "        ds_new['e'] = ds['e']\n",
    "        \n",
    "        v['ds_new']  = ds_new"
   ]
  },
  {
   "cell_type": "code",
   "execution_count": 12,
   "metadata": {},
   "outputs": [
    {
     "name": "stdout",
     "output_type": "stream",
     "text": [
      "/glade/work/noraloose/nw2_0.25deg_N15_baseline_hmix20/time_averaged_diags_500days\n"
     ]
    }
   ],
   "source": [
    "for exp, v in exps_unparam.items():\n",
    "    if v['degree'] == degree:\n",
    "        ds_new = v['ds_new']\n",
    "        dst_new = ds_new.mean(dim='time', keep_attrs=True)\n",
    "        filename = '/glade/work/noraloose/nw2_%gdeg_N15_baseline_hmix20/time_averaged_diags_500days' % degree\n",
    "        print(filename)\n",
    "        dst_new.to_zarr(filename)"
   ]
  },
  {
   "cell_type": "code",
   "execution_count": null,
   "metadata": {},
   "outputs": [],
   "source": []
  }
 ],
 "metadata": {
  "kernelspec": {
   "display_name": "my-kernel",
   "language": "python",
   "name": "my-kernel"
  },
  "language_info": {
   "codemirror_mode": {
    "name": "ipython",
    "version": 3
   },
   "file_extension": ".py",
   "mimetype": "text/x-python",
   "name": "python",
   "nbconvert_exporter": "python",
   "pygments_lexer": "ipython3",
   "version": "3.8.12"
  }
 },
 "nbformat": 4,
 "nbformat_minor": 4
}
